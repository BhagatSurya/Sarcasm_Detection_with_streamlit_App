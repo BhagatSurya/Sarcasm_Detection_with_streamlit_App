{
 "cells": [
  {
   "cell_type": "code",
   "execution_count": 19,
   "id": "cd2c798e",
   "metadata": {},
   "outputs": [
    {
     "name": "stdout",
     "output_type": "stream",
     "text": [
      "Overwriting sarcasm.py\n"
     ]
    }
   ],
   "source": [
    "%%writefile sarcasm.py\n",
    "import pandas as pd\n",
    "import streamlit as st\n",
    "import tensorflow as tf\n",
    "import numpy as np\n",
    "st.title('Sarcasm Detection')\n",
    "st.image('0ea5c99fd6446a3b-1200x675.jpg')\n",
    "filename = \"sarcastic_Dense\"\n",
    "model = tf.keras.models.load_model(filename)\n",
    "#st.write('past a Sentance to know to Weather a word is Sarcasm are Not')\n",
    "\n",
    "def predict(text):    \n",
    "    pre=np.max(model.predict([text]))\n",
    "    pre= tf.round(pre)\n",
    "    return pre\n",
    "text = st.text_input(\"Enter some text 👇\",\"\")\n",
    "if st.button('Predict'):\n",
    "    aqi = np.round(predict(text))\n",
    "    if aqi== 1:\n",
    "        st.success(f'So sarcastic 😂  i Give you {aqi}')\n",
    "    else:\n",
    "        st.success(f'Not so sarcastic 😑  i Give you {aqi}')\n",
    "    \n",
    "st.markdown(\"Bhagat Surya\")"
   ]
  },
  {
   "cell_type": "raw",
   "id": "abd2607b",
   "metadata": {},
   "source": [
    "import tensorflow as tf\n",
    "filename = \"sarcastic_Dense\"\n",
    "model = tf.keras.models.load_model(filename)"
   ]
  },
  {
   "cell_type": "raw",
   "id": "659f7df3",
   "metadata": {},
   "source": [
    "import numpy as np\n",
    "text =\"cosby lawyer asks why accusers didn't come forward to be smeared by legal team years ago\"\n",
    "pre=np.max(model.predict([text]))\n",
    "print(tf.round(pre))"
   ]
  },
  {
   "cell_type": "raw",
   "id": "f72f88a5",
   "metadata": {},
   "source": [
    "pre = np.max(model.predict(text))\n",
    "predictions=tf.round(tf.squeeze(pre))\n",
    "print(predictions"
   ]
  }
 ],
 "metadata": {
  "kernelspec": {
   "display_name": "Python 3 (ipykernel)",
   "language": "python",
   "name": "python3"
  },
  "language_info": {
   "codemirror_mode": {
    "name": "ipython",
    "version": 3
   },
   "file_extension": ".py",
   "mimetype": "text/x-python",
   "name": "python",
   "nbconvert_exporter": "python",
   "pygments_lexer": "ipython3",
   "version": "3.7.13"
  }
 },
 "nbformat": 4,
 "nbformat_minor": 5
}

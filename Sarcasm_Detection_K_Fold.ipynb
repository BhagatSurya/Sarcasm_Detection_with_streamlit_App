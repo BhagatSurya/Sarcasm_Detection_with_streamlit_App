{
  "nbformat": 4,
  "nbformat_minor": 0,
  "metadata": {
    "colab": {
      "name": "Sarcasm Detection K-Fold.ipynb",
      "provenance": []
    },
    "kernelspec": {
      "name": "python3",
      "display_name": "Python 3"
    },
    "language_info": {
      "name": "python"
    },
    "accelerator": "GPU",
    "gpuClass": "standard"
  },
  "cells": [
    {
      "cell_type": "code",
      "source": [
        "#unzip the data \n",
        "import zipfile\n",
        "# Unzip the downloaded file\n",
        "zip_ref = zipfile.ZipFile(\"/content/Sarcasm_Headlines_Dataset.json.zip\", \"r\")\n",
        "zip_ref.extractall()\n",
        "zip_ref.close()"
      ],
      "metadata": {
        "id": "VFQs6P04bZKG"
      },
      "execution_count": 4,
      "outputs": []
    },
    {
      "cell_type": "markdown",
      "source": [],
      "metadata": {
        "id": "Ldf-l--ODtZX"
      }
    },
    {
      "cell_type": "code",
      "source": [
        "import pandas as pd\n",
        "df = pd.read_json('/content/Sarcasm_Headlines_Dataset.json',lines=True)"
      ],
      "metadata": {
        "id": "efELQ_fuELmi"
      },
      "execution_count": 6,
      "outputs": []
    },
    {
      "cell_type": "code",
      "source": [
        "df.head()\n"
      ],
      "metadata": {
        "colab": {
          "base_uri": "https://localhost:8080/",
          "height": 206
        },
        "id": "yq4W7FWMERcx",
        "outputId": "9196cf55-7662-47da-fa2f-e1bf5427f699"
      },
      "execution_count": 7,
      "outputs": [
        {
          "output_type": "execute_result",
          "data": {
            "text/plain": [
              "                                        article_link  \\\n",
              "0  https://www.huffingtonpost.com/entry/versace-b...   \n",
              "1  https://www.huffingtonpost.com/entry/roseanne-...   \n",
              "2  https://local.theonion.com/mom-starting-to-fea...   \n",
              "3  https://politics.theonion.com/boehner-just-wan...   \n",
              "4  https://www.huffingtonpost.com/entry/jk-rowlin...   \n",
              "\n",
              "                                            headline  is_sarcastic  \n",
              "0  former versace store clerk sues over secret 'b...             0  \n",
              "1  the 'roseanne' revival catches up to our thorn...             0  \n",
              "2  mom starting to fear son's web series closest ...             1  \n",
              "3  boehner just wants wife to listen, not come up...             1  \n",
              "4  j.k. rowling wishes snape happy birthday in th...             0  "
            ],
            "text/html": [
              "\n",
              "  <div id=\"df-d1c55e5b-171d-435c-945e-777750ab05e1\">\n",
              "    <div class=\"colab-df-container\">\n",
              "      <div>\n",
              "<style scoped>\n",
              "    .dataframe tbody tr th:only-of-type {\n",
              "        vertical-align: middle;\n",
              "    }\n",
              "\n",
              "    .dataframe tbody tr th {\n",
              "        vertical-align: top;\n",
              "    }\n",
              "\n",
              "    .dataframe thead th {\n",
              "        text-align: right;\n",
              "    }\n",
              "</style>\n",
              "<table border=\"1\" class=\"dataframe\">\n",
              "  <thead>\n",
              "    <tr style=\"text-align: right;\">\n",
              "      <th></th>\n",
              "      <th>article_link</th>\n",
              "      <th>headline</th>\n",
              "      <th>is_sarcastic</th>\n",
              "    </tr>\n",
              "  </thead>\n",
              "  <tbody>\n",
              "    <tr>\n",
              "      <th>0</th>\n",
              "      <td>https://www.huffingtonpost.com/entry/versace-b...</td>\n",
              "      <td>former versace store clerk sues over secret 'b...</td>\n",
              "      <td>0</td>\n",
              "    </tr>\n",
              "    <tr>\n",
              "      <th>1</th>\n",
              "      <td>https://www.huffingtonpost.com/entry/roseanne-...</td>\n",
              "      <td>the 'roseanne' revival catches up to our thorn...</td>\n",
              "      <td>0</td>\n",
              "    </tr>\n",
              "    <tr>\n",
              "      <th>2</th>\n",
              "      <td>https://local.theonion.com/mom-starting-to-fea...</td>\n",
              "      <td>mom starting to fear son's web series closest ...</td>\n",
              "      <td>1</td>\n",
              "    </tr>\n",
              "    <tr>\n",
              "      <th>3</th>\n",
              "      <td>https://politics.theonion.com/boehner-just-wan...</td>\n",
              "      <td>boehner just wants wife to listen, not come up...</td>\n",
              "      <td>1</td>\n",
              "    </tr>\n",
              "    <tr>\n",
              "      <th>4</th>\n",
              "      <td>https://www.huffingtonpost.com/entry/jk-rowlin...</td>\n",
              "      <td>j.k. rowling wishes snape happy birthday in th...</td>\n",
              "      <td>0</td>\n",
              "    </tr>\n",
              "  </tbody>\n",
              "</table>\n",
              "</div>\n",
              "      <button class=\"colab-df-convert\" onclick=\"convertToInteractive('df-d1c55e5b-171d-435c-945e-777750ab05e1')\"\n",
              "              title=\"Convert this dataframe to an interactive table.\"\n",
              "              style=\"display:none;\">\n",
              "        \n",
              "  <svg xmlns=\"http://www.w3.org/2000/svg\" height=\"24px\"viewBox=\"0 0 24 24\"\n",
              "       width=\"24px\">\n",
              "    <path d=\"M0 0h24v24H0V0z\" fill=\"none\"/>\n",
              "    <path d=\"M18.56 5.44l.94 2.06.94-2.06 2.06-.94-2.06-.94-.94-2.06-.94 2.06-2.06.94zm-11 1L8.5 8.5l.94-2.06 2.06-.94-2.06-.94L8.5 2.5l-.94 2.06-2.06.94zm10 10l.94 2.06.94-2.06 2.06-.94-2.06-.94-.94-2.06-.94 2.06-2.06.94z\"/><path d=\"M17.41 7.96l-1.37-1.37c-.4-.4-.92-.59-1.43-.59-.52 0-1.04.2-1.43.59L10.3 9.45l-7.72 7.72c-.78.78-.78 2.05 0 2.83L4 21.41c.39.39.9.59 1.41.59.51 0 1.02-.2 1.41-.59l7.78-7.78 2.81-2.81c.8-.78.8-2.07 0-2.86zM5.41 20L4 18.59l7.72-7.72 1.47 1.35L5.41 20z\"/>\n",
              "  </svg>\n",
              "      </button>\n",
              "      \n",
              "  <style>\n",
              "    .colab-df-container {\n",
              "      display:flex;\n",
              "      flex-wrap:wrap;\n",
              "      gap: 12px;\n",
              "    }\n",
              "\n",
              "    .colab-df-convert {\n",
              "      background-color: #E8F0FE;\n",
              "      border: none;\n",
              "      border-radius: 50%;\n",
              "      cursor: pointer;\n",
              "      display: none;\n",
              "      fill: #1967D2;\n",
              "      height: 32px;\n",
              "      padding: 0 0 0 0;\n",
              "      width: 32px;\n",
              "    }\n",
              "\n",
              "    .colab-df-convert:hover {\n",
              "      background-color: #E2EBFA;\n",
              "      box-shadow: 0px 1px 2px rgba(60, 64, 67, 0.3), 0px 1px 3px 1px rgba(60, 64, 67, 0.15);\n",
              "      fill: #174EA6;\n",
              "    }\n",
              "\n",
              "    [theme=dark] .colab-df-convert {\n",
              "      background-color: #3B4455;\n",
              "      fill: #D2E3FC;\n",
              "    }\n",
              "\n",
              "    [theme=dark] .colab-df-convert:hover {\n",
              "      background-color: #434B5C;\n",
              "      box-shadow: 0px 1px 3px 1px rgba(0, 0, 0, 0.15);\n",
              "      filter: drop-shadow(0px 1px 2px rgba(0, 0, 0, 0.3));\n",
              "      fill: #FFFFFF;\n",
              "    }\n",
              "  </style>\n",
              "\n",
              "      <script>\n",
              "        const buttonEl =\n",
              "          document.querySelector('#df-d1c55e5b-171d-435c-945e-777750ab05e1 button.colab-df-convert');\n",
              "        buttonEl.style.display =\n",
              "          google.colab.kernel.accessAllowed ? 'block' : 'none';\n",
              "\n",
              "        async function convertToInteractive(key) {\n",
              "          const element = document.querySelector('#df-d1c55e5b-171d-435c-945e-777750ab05e1');\n",
              "          const dataTable =\n",
              "            await google.colab.kernel.invokeFunction('convertToInteractive',\n",
              "                                                     [key], {});\n",
              "          if (!dataTable) return;\n",
              "\n",
              "          const docLinkHtml = 'Like what you see? Visit the ' +\n",
              "            '<a target=\"_blank\" href=https://colab.research.google.com/notebooks/data_table.ipynb>data table notebook</a>'\n",
              "            + ' to learn more about interactive tables.';\n",
              "          element.innerHTML = '';\n",
              "          dataTable['output_type'] = 'display_data';\n",
              "          await google.colab.output.renderOutput(dataTable, element);\n",
              "          const docLink = document.createElement('div');\n",
              "          docLink.innerHTML = docLinkHtml;\n",
              "          element.appendChild(docLink);\n",
              "        }\n",
              "      </script>\n",
              "    </div>\n",
              "  </div>\n",
              "  "
            ]
          },
          "metadata": {},
          "execution_count": 7
        }
      ]
    },
    {
      "cell_type": "code",
      "source": [
        "df = df.drop(['article_link'], axis=1)#Droping the article_link coloum \n",
        "df.head() "
      ],
      "metadata": {
        "colab": {
          "base_uri": "https://localhost:8080/",
          "height": 206
        },
        "id": "Z55RJX64ETae",
        "outputId": "3f7f65b1-92f6-4fbe-8394-118bff2581fa"
      },
      "execution_count": 8,
      "outputs": [
        {
          "output_type": "execute_result",
          "data": {
            "text/plain": [
              "                                            headline  is_sarcastic\n",
              "0  former versace store clerk sues over secret 'b...             0\n",
              "1  the 'roseanne' revival catches up to our thorn...             0\n",
              "2  mom starting to fear son's web series closest ...             1\n",
              "3  boehner just wants wife to listen, not come up...             1\n",
              "4  j.k. rowling wishes snape happy birthday in th...             0"
            ],
            "text/html": [
              "\n",
              "  <div id=\"df-486ee721-de5c-43d0-9f96-8be11de6c9f6\">\n",
              "    <div class=\"colab-df-container\">\n",
              "      <div>\n",
              "<style scoped>\n",
              "    .dataframe tbody tr th:only-of-type {\n",
              "        vertical-align: middle;\n",
              "    }\n",
              "\n",
              "    .dataframe tbody tr th {\n",
              "        vertical-align: top;\n",
              "    }\n",
              "\n",
              "    .dataframe thead th {\n",
              "        text-align: right;\n",
              "    }\n",
              "</style>\n",
              "<table border=\"1\" class=\"dataframe\">\n",
              "  <thead>\n",
              "    <tr style=\"text-align: right;\">\n",
              "      <th></th>\n",
              "      <th>headline</th>\n",
              "      <th>is_sarcastic</th>\n",
              "    </tr>\n",
              "  </thead>\n",
              "  <tbody>\n",
              "    <tr>\n",
              "      <th>0</th>\n",
              "      <td>former versace store clerk sues over secret 'b...</td>\n",
              "      <td>0</td>\n",
              "    </tr>\n",
              "    <tr>\n",
              "      <th>1</th>\n",
              "      <td>the 'roseanne' revival catches up to our thorn...</td>\n",
              "      <td>0</td>\n",
              "    </tr>\n",
              "    <tr>\n",
              "      <th>2</th>\n",
              "      <td>mom starting to fear son's web series closest ...</td>\n",
              "      <td>1</td>\n",
              "    </tr>\n",
              "    <tr>\n",
              "      <th>3</th>\n",
              "      <td>boehner just wants wife to listen, not come up...</td>\n",
              "      <td>1</td>\n",
              "    </tr>\n",
              "    <tr>\n",
              "      <th>4</th>\n",
              "      <td>j.k. rowling wishes snape happy birthday in th...</td>\n",
              "      <td>0</td>\n",
              "    </tr>\n",
              "  </tbody>\n",
              "</table>\n",
              "</div>\n",
              "      <button class=\"colab-df-convert\" onclick=\"convertToInteractive('df-486ee721-de5c-43d0-9f96-8be11de6c9f6')\"\n",
              "              title=\"Convert this dataframe to an interactive table.\"\n",
              "              style=\"display:none;\">\n",
              "        \n",
              "  <svg xmlns=\"http://www.w3.org/2000/svg\" height=\"24px\"viewBox=\"0 0 24 24\"\n",
              "       width=\"24px\">\n",
              "    <path d=\"M0 0h24v24H0V0z\" fill=\"none\"/>\n",
              "    <path d=\"M18.56 5.44l.94 2.06.94-2.06 2.06-.94-2.06-.94-.94-2.06-.94 2.06-2.06.94zm-11 1L8.5 8.5l.94-2.06 2.06-.94-2.06-.94L8.5 2.5l-.94 2.06-2.06.94zm10 10l.94 2.06.94-2.06 2.06-.94-2.06-.94-.94-2.06-.94 2.06-2.06.94z\"/><path d=\"M17.41 7.96l-1.37-1.37c-.4-.4-.92-.59-1.43-.59-.52 0-1.04.2-1.43.59L10.3 9.45l-7.72 7.72c-.78.78-.78 2.05 0 2.83L4 21.41c.39.39.9.59 1.41.59.51 0 1.02-.2 1.41-.59l7.78-7.78 2.81-2.81c.8-.78.8-2.07 0-2.86zM5.41 20L4 18.59l7.72-7.72 1.47 1.35L5.41 20z\"/>\n",
              "  </svg>\n",
              "      </button>\n",
              "      \n",
              "  <style>\n",
              "    .colab-df-container {\n",
              "      display:flex;\n",
              "      flex-wrap:wrap;\n",
              "      gap: 12px;\n",
              "    }\n",
              "\n",
              "    .colab-df-convert {\n",
              "      background-color: #E8F0FE;\n",
              "      border: none;\n",
              "      border-radius: 50%;\n",
              "      cursor: pointer;\n",
              "      display: none;\n",
              "      fill: #1967D2;\n",
              "      height: 32px;\n",
              "      padding: 0 0 0 0;\n",
              "      width: 32px;\n",
              "    }\n",
              "\n",
              "    .colab-df-convert:hover {\n",
              "      background-color: #E2EBFA;\n",
              "      box-shadow: 0px 1px 2px rgba(60, 64, 67, 0.3), 0px 1px 3px 1px rgba(60, 64, 67, 0.15);\n",
              "      fill: #174EA6;\n",
              "    }\n",
              "\n",
              "    [theme=dark] .colab-df-convert {\n",
              "      background-color: #3B4455;\n",
              "      fill: #D2E3FC;\n",
              "    }\n",
              "\n",
              "    [theme=dark] .colab-df-convert:hover {\n",
              "      background-color: #434B5C;\n",
              "      box-shadow: 0px 1px 3px 1px rgba(0, 0, 0, 0.15);\n",
              "      filter: drop-shadow(0px 1px 2px rgba(0, 0, 0, 0.3));\n",
              "      fill: #FFFFFF;\n",
              "    }\n",
              "  </style>\n",
              "\n",
              "      <script>\n",
              "        const buttonEl =\n",
              "          document.querySelector('#df-486ee721-de5c-43d0-9f96-8be11de6c9f6 button.colab-df-convert');\n",
              "        buttonEl.style.display =\n",
              "          google.colab.kernel.accessAllowed ? 'block' : 'none';\n",
              "\n",
              "        async function convertToInteractive(key) {\n",
              "          const element = document.querySelector('#df-486ee721-de5c-43d0-9f96-8be11de6c9f6');\n",
              "          const dataTable =\n",
              "            await google.colab.kernel.invokeFunction('convertToInteractive',\n",
              "                                                     [key], {});\n",
              "          if (!dataTable) return;\n",
              "\n",
              "          const docLinkHtml = 'Like what you see? Visit the ' +\n",
              "            '<a target=\"_blank\" href=https://colab.research.google.com/notebooks/data_table.ipynb>data table notebook</a>'\n",
              "            + ' to learn more about interactive tables.';\n",
              "          element.innerHTML = '';\n",
              "          dataTable['output_type'] = 'display_data';\n",
              "          await google.colab.output.renderOutput(dataTable, element);\n",
              "          const docLink = document.createElement('div');\n",
              "          docLink.innerHTML = docLinkHtml;\n",
              "          element.appendChild(docLink);\n",
              "        }\n",
              "      </script>\n",
              "    </div>\n",
              "  </div>\n",
              "  "
            ]
          },
          "metadata": {},
          "execution_count": 8
        }
      ]
    },
    {
      "cell_type": "code",
      "source": [
        "X = df['headline']"
      ],
      "metadata": {
        "id": "6jQNtRfXEVp9"
      },
      "execution_count": 9,
      "outputs": []
    },
    {
      "cell_type": "code",
      "source": [
        "X"
      ],
      "metadata": {
        "colab": {
          "base_uri": "https://localhost:8080/"
        },
        "id": "Nel-HKIfEh0f",
        "outputId": "06c80c64-ce7b-4d59-d99c-a3b7557b33b9"
      },
      "execution_count": 10,
      "outputs": [
        {
          "output_type": "execute_result",
          "data": {
            "text/plain": [
              "0        former versace store clerk sues over secret 'b...\n",
              "1        the 'roseanne' revival catches up to our thorn...\n",
              "2        mom starting to fear son's web series closest ...\n",
              "3        boehner just wants wife to listen, not come up...\n",
              "4        j.k. rowling wishes snape happy birthday in th...\n",
              "                               ...                        \n",
              "26704                 american politics in moral free-fall\n",
              "26705                              america's best 20 hikes\n",
              "26706                                reparations and obama\n",
              "26707    israeli ban targeting boycott supporters raise...\n",
              "26708                    gourmet gifts for the foodie 2014\n",
              "Name: headline, Length: 26709, dtype: object"
            ]
          },
          "metadata": {},
          "execution_count": 10
        }
      ]
    },
    {
      "cell_type": "code",
      "source": [
        "Y = df['is_sarcastic']"
      ],
      "metadata": {
        "id": "7VsxzRKgEjW-"
      },
      "execution_count": 11,
      "outputs": []
    },
    {
      "cell_type": "code",
      "source": [
        "Y"
      ],
      "metadata": {
        "colab": {
          "base_uri": "https://localhost:8080/"
        },
        "id": "BtveFya3Etgc",
        "outputId": "6a6f2842-3052-458a-f846-c97f58a29312"
      },
      "execution_count": 12,
      "outputs": [
        {
          "output_type": "execute_result",
          "data": {
            "text/plain": [
              "0        0\n",
              "1        0\n",
              "2        1\n",
              "3        1\n",
              "4        0\n",
              "        ..\n",
              "26704    0\n",
              "26705    0\n",
              "26706    0\n",
              "26707    0\n",
              "26708    0\n",
              "Name: is_sarcastic, Length: 26709, dtype: int64"
            ]
          },
          "metadata": {},
          "execution_count": 12
        }
      ]
    },
    {
      "cell_type": "code",
      "source": [
        "import tensorflow  as tf\n",
        "from tensorflow.keras.layers.experimental.preprocessing import TextVectorization  "
      ],
      "metadata": {
        "id": "cebHlFuRE3Ms"
      },
      "execution_count": 13,
      "outputs": []
    },
    {
      "cell_type": "code",
      "source": [
        "# Setup text vectorization with custom variables\n",
        "max_vocab_length = 10000 # max number of words to have in our vocabulary\n",
        "max_length = 10 # max length our sequences will be (e.g. how many words from a Tweet does our model see?)\n",
        "\n",
        "text_vectorizer = TextVectorization(max_tokens=max_vocab_length,\n",
        "                                    output_mode=\"int\",\n",
        "                                    output_sequence_length=max_length)"
      ],
      "metadata": {
        "id": "eMrl1-rJEuoz"
      },
      "execution_count": 14,
      "outputs": []
    },
    {
      "cell_type": "code",
      "source": [
        "text_vectorizer.adapt(X)\n"
      ],
      "metadata": {
        "id": "FkRtMOcSE0R2"
      },
      "execution_count": 15,
      "outputs": []
    },
    {
      "cell_type": "code",
      "source": [
        "tf.random.set_seed(42)\n",
        "from tensorflow.keras import layers\n",
        "\n",
        "embedding = layers.Embedding(input_dim=max_vocab_length, # set input shape\n",
        "                             output_dim=128, # set size of embedding vector\n",
        "                             embeddings_initializer=\"uniform\", # default, intialize randomly\n",
        "                             input_length=max_length, # how long is each input\n",
        "                             name=\"embedding_1\") \n",
        "\n",
        "embedding"
      ],
      "metadata": {
        "colab": {
          "base_uri": "https://localhost:8080/"
        },
        "id": "2SzGB3wHF0x-",
        "outputId": "6964dc01-9b6c-4f0a-99b6-d1ac6835ab0d"
      },
      "execution_count": 16,
      "outputs": [
        {
          "output_type": "execute_result",
          "data": {
            "text/plain": [
              "<keras.layers.core.embedding.Embedding at 0x7fdb34768150>"
            ]
          },
          "metadata": {},
          "execution_count": 16
        }
      ]
    },
    {
      "cell_type": "markdown",
      "source": [
        "#"
      ],
      "metadata": {
        "id": "j-sNT-O-iBg_"
      }
    },
    {
      "cell_type": "code",
      "source": [
        "#functional Aip \n",
        "#model creation\n",
        "tf.random.set_seed(42)\n",
        "from tensorflow.keras import layers\n",
        "Inputs =  layers.Input(shape=(1,),dtype='string')\n",
        "x = text_vectorizer(Inputs)\n",
        "x = embedding(x)\n",
        "x = layers.GlobalAveragePooling1D()(x)\n",
        "x = layers.Dense(3,activation='relu')(x)\n",
        "#x = layers.Dropout(0.2)(x)\n",
        "outputs = layers.Dense(1,activation='sigmoid')(x)\n",
        "Dense_model = tf.keras.Model(Inputs,outputs,name='Dens_model')"
      ],
      "metadata": {
        "id": "XrS1YBJuF6Tz"
      },
      "execution_count": 17,
      "outputs": []
    },
    {
      "cell_type": "code",
      "source": [
        "#model compile \n",
        "Dense_model.compile(loss=\"binary_crossentropy\",\n",
        "                    optimizer =tf.keras.optimizers.Adam(),\n",
        "                    metrics=['accuracy'])"
      ],
      "metadata": {
        "id": "QYz8_0EqGBBa"
      },
      "execution_count": 18,
      "outputs": []
    },
    {
      "cell_type": "code",
      "source": [
        "from sklearn.model_selection import KFold\n",
        "\n",
        "n_split=3\n",
        "\n",
        "for train_index,test_index in KFold(n_split).split(X):\n",
        "  x_train,x_test=X[train_index],X[test_index]\n",
        "  y_train,y_test=Y[train_index],Y[test_index]\n",
        "\n",
        "  Dense_model.fit(x_train, y_train,epochs=30)"
      ],
      "metadata": {
        "colab": {
          "base_uri": "https://localhost:8080/"
        },
        "id": "oOpdkaj2GYre",
        "outputId": "c22481e3-f343-457f-b0dd-c3f8524b7254"
      },
      "execution_count": null,
      "outputs": [
        {
          "output_type": "stream",
          "name": "stdout",
          "text": [
            "Epoch 1/30\n",
            "557/557 [==============================] - 5s 4ms/step - loss: 0.4636 - accuracy: 0.7886\n",
            "Epoch 2/30\n",
            "557/557 [==============================] - 3s 4ms/step - loss: 0.2639 - accuracy: 0.8930\n",
            "Epoch 3/30\n",
            "557/557 [==============================] - 2s 4ms/step - loss: 0.1930 - accuracy: 0.9264\n",
            "Epoch 4/30\n",
            "557/557 [==============================] - 2s 4ms/step - loss: 0.1504 - accuracy: 0.9468\n",
            "Epoch 5/30\n",
            "557/557 [==============================] - 2s 4ms/step - loss: 0.1208 - accuracy: 0.9565\n",
            "Epoch 6/30\n",
            "557/557 [==============================] - 2s 4ms/step - loss: 0.1006 - accuracy: 0.9649\n",
            "Epoch 7/30\n",
            "557/557 [==============================] - 2s 4ms/step - loss: 0.0828 - accuracy: 0.9720\n",
            "Epoch 8/30\n",
            "557/557 [==============================] - 2s 4ms/step - loss: 0.0688 - accuracy: 0.9765\n",
            "Epoch 9/30\n",
            "557/557 [==============================] - 2s 4ms/step - loss: 0.0567 - accuracy: 0.9805\n",
            "Epoch 10/30\n",
            "557/557 [==============================] - 2s 4ms/step - loss: 0.0498 - accuracy: 0.9822\n",
            "Epoch 11/30\n",
            "557/557 [==============================] - 2s 4ms/step - loss: 0.0418 - accuracy: 0.9856\n",
            "Epoch 12/30\n",
            "557/557 [==============================] - 2s 4ms/step - loss: 0.0359 - accuracy: 0.9878\n",
            "Epoch 13/30\n",
            "557/557 [==============================] - 2s 4ms/step - loss: 0.0311 - accuracy: 0.9901\n",
            "Epoch 14/30\n",
            "557/557 [==============================] - 2s 4ms/step - loss: 0.0261 - accuracy: 0.9911\n",
            "Epoch 15/30\n",
            "557/557 [==============================] - 2s 4ms/step - loss: 0.0232 - accuracy: 0.9926\n",
            "Epoch 16/30\n",
            "557/557 [==============================] - 2s 4ms/step - loss: 0.0219 - accuracy: 0.9928\n",
            "Epoch 17/30\n",
            "557/557 [==============================] - 2s 4ms/step - loss: 0.0200 - accuracy: 0.9932\n",
            "Epoch 18/30\n",
            "557/557 [==============================] - 2s 4ms/step - loss: 0.0171 - accuracy: 0.9942\n",
            "Epoch 19/30\n",
            "557/557 [==============================] - 2s 4ms/step - loss: 0.0152 - accuracy: 0.9946\n",
            "Epoch 20/30\n",
            "557/557 [==============================] - 2s 4ms/step - loss: 0.0143 - accuracy: 0.9952\n",
            "Epoch 21/30\n",
            "557/557 [==============================] - 2s 4ms/step - loss: 0.0134 - accuracy: 0.9962\n",
            "Epoch 22/30\n",
            "557/557 [==============================] - 2s 4ms/step - loss: 0.0124 - accuracy: 0.9959\n",
            "Epoch 23/30\n",
            "557/557 [==============================] - 3s 5ms/step - loss: 0.0130 - accuracy: 0.9954\n",
            "Epoch 24/30\n",
            "557/557 [==============================] - 3s 5ms/step - loss: 0.0128 - accuracy: 0.9958\n",
            "Epoch 25/30\n",
            "557/557 [==============================] - 2s 4ms/step - loss: 0.0127 - accuracy: 0.9956\n",
            "Epoch 26/30\n",
            "557/557 [==============================] - 2s 4ms/step - loss: 0.0096 - accuracy: 0.9967\n",
            "Epoch 27/30\n",
            "557/557 [==============================] - 2s 4ms/step - loss: 0.0087 - accuracy: 0.9970\n",
            "Epoch 28/30\n",
            "557/557 [==============================] - 2s 4ms/step - loss: 0.0084 - accuracy: 0.9972\n",
            "Epoch 29/30\n",
            "557/557 [==============================] - 2s 4ms/step - loss: 0.0083 - accuracy: 0.9971\n",
            "Epoch 30/30\n",
            "557/557 [==============================] - 2s 4ms/step - loss: 0.0090 - accuracy: 0.9967\n",
            "Epoch 1/30\n",
            "557/557 [==============================] - 2s 4ms/step - loss: 0.4857 - accuracy: 0.8772\n",
            "Epoch 2/30\n",
            "557/557 [==============================] - 2s 4ms/step - loss: 0.2201 - accuracy: 0.9223\n",
            "Epoch 3/30\n",
            "557/557 [==============================] - 2s 4ms/step - loss: 0.1750 - accuracy: 0.9378\n",
            "Epoch 4/30\n",
            "557/557 [==============================] - 2s 4ms/step - loss: 0.1456 - accuracy: 0.9477\n",
            "Epoch 5/30\n",
            "557/557 [==============================] - 2s 4ms/step - loss: 0.1240 - accuracy: 0.9559\n",
            "Epoch 6/30\n",
            "557/557 [==============================] - 2s 4ms/step - loss: 0.1057 - accuracy: 0.9630\n",
            "Epoch 7/30\n",
            "557/557 [==============================] - 2s 4ms/step - loss: 0.0913 - accuracy: 0.9682\n",
            "Epoch 8/30\n",
            "557/557 [==============================] - 2s 4ms/step - loss: 0.0796 - accuracy: 0.9718\n",
            "Epoch 9/30\n",
            "557/557 [==============================] - 2s 4ms/step - loss: 0.0694 - accuracy: 0.9741\n",
            "Epoch 10/30\n",
            "557/557 [==============================] - 2s 4ms/step - loss: 0.0634 - accuracy: 0.9761\n",
            "Epoch 11/30\n",
            "557/557 [==============================] - 2s 4ms/step - loss: 0.0573 - accuracy: 0.9782\n",
            "Epoch 12/30\n",
            "557/557 [==============================] - 2s 4ms/step - loss: 0.0524 - accuracy: 0.9793\n",
            "Epoch 13/30\n",
            "557/557 [==============================] - 2s 4ms/step - loss: 0.0490 - accuracy: 0.9801\n",
            "Epoch 14/30\n",
            "557/557 [==============================] - 2s 4ms/step - loss: 0.0467 - accuracy: 0.9810\n",
            "Epoch 15/30\n",
            "557/557 [==============================] - 2s 4ms/step - loss: 0.0441 - accuracy: 0.9816\n",
            "Epoch 16/30\n",
            "557/557 [==============================] - 2s 4ms/step - loss: 0.0430 - accuracy: 0.9819\n",
            "Epoch 17/30\n",
            "557/557 [==============================] - 2s 4ms/step - loss: 0.0414 - accuracy: 0.9825\n",
            "Epoch 18/30\n",
            "557/557 [==============================] - 2s 4ms/step - loss: 0.0407 - accuracy: 0.9822\n",
            "Epoch 19/30\n",
            "557/557 [==============================] - 2s 4ms/step - loss: 0.0402 - accuracy: 0.9822\n",
            "Epoch 20/30\n",
            "557/557 [==============================] - 2s 4ms/step - loss: 0.0395 - accuracy: 0.9823\n",
            "Epoch 21/30\n",
            "557/557 [==============================] - 2s 4ms/step - loss: 0.0390 - accuracy: 0.9824\n",
            "Epoch 22/30\n",
            "557/557 [==============================] - 2s 4ms/step - loss: 0.0386 - accuracy: 0.9824\n",
            "Epoch 23/30\n",
            "557/557 [==============================] - 2s 4ms/step - loss: 0.0375 - accuracy: 0.9831\n",
            "Epoch 24/30\n",
            "557/557 [==============================] - 2s 4ms/step - loss: 0.0370 - accuracy: 0.9830\n",
            "Epoch 25/30\n",
            "557/557 [==============================] - 2s 4ms/step - loss: 0.0368 - accuracy: 0.9830\n",
            "Epoch 26/30\n",
            "557/557 [==============================] - 2s 4ms/step - loss: 0.0364 - accuracy: 0.9833\n",
            "Epoch 27/30\n",
            "557/557 [==============================] - 2s 4ms/step - loss: 0.0365 - accuracy: 0.9831\n",
            "Epoch 28/30\n",
            "557/557 [==============================] - 2s 4ms/step - loss: 0.0360 - accuracy: 0.9832\n",
            "Epoch 29/30\n",
            "557/557 [==============================] - 2s 4ms/step - loss: 0.0359 - accuracy: 0.9835\n",
            "Epoch 30/30\n",
            "557/557 [==============================] - 2s 4ms/step - loss: 0.0357 - accuracy: 0.9832\n",
            "Epoch 1/30\n",
            "557/557 [==============================] - 2s 4ms/step - loss: 0.3339 - accuracy: 0.9099\n",
            "Epoch 2/30\n",
            "557/557 [==============================] - 2s 4ms/step - loss: 0.1374 - accuracy: 0.9383\n",
            "Epoch 3/30\n",
            "557/557 [==============================] - 2s 4ms/step - loss: 0.0980 - accuracy: 0.9526\n",
            "Epoch 4/30\n",
            "557/557 [==============================] - 2s 4ms/step - loss: 0.0788 - accuracy: 0.9594\n",
            "Epoch 5/30\n",
            "557/557 [==============================] - 2s 4ms/step - loss: 0.0677 - accuracy: 0.9631\n",
            "Epoch 6/30\n",
            "228/557 [===========>..................] - ETA: 1s - loss: 0.0613 - accuracy: 0.9655"
          ]
        }
      ]
    },
    {
      "cell_type": "code",
      "source": [],
      "metadata": {
        "id": "uIPEnVmGbi5G"
      },
      "execution_count": null,
      "outputs": []
    },
    {
      "cell_type": "code",
      "source": [
        "print('Model evaluation ',Dense_model.evaluate(x_test,y_test))"
      ],
      "metadata": {
        "colab": {
          "base_uri": "https://localhost:8080/"
        },
        "id": "KGJuwNkYG5Dh",
        "outputId": "761e36ad-8be6-40d4-f910-6a689e8439e6"
      },
      "execution_count": null,
      "outputs": [
        {
          "output_type": "stream",
          "name": "stdout",
          "text": [
            "279/279 [==============================] - 1s 3ms/step - loss: 0.1234 - accuracy: 0.9708\n",
            "Model evaluation  [0.1233641505241394, 0.9707963466644287]\n"
          ]
        }
      ]
    },
    {
      "cell_type": "code",
      "source": [
        "print('Model evaluation ',Dense_model.evaluate(x_train,y_train))"
      ],
      "metadata": {
        "colab": {
          "base_uri": "https://localhost:8080/"
        },
        "id": "G8S0RajcJcV7",
        "outputId": "0419eb66-8d0c-4f33-9ffb-e5e062b301ad"
      },
      "execution_count": null,
      "outputs": [
        {
          "output_type": "stream",
          "name": "stdout",
          "text": [
            "557/557 [==============================] - 1s 3ms/step - loss: 0.0145 - accuracy: 0.9952\n",
            "Model evaluation  [0.01447790302336216, 0.9951701760292053]\n"
          ]
        }
      ]
    },
    {
      "cell_type": "code",
      "source": [],
      "metadata": {
        "id": "8jE_Wp5QJlwp"
      },
      "execution_count": null,
      "outputs": []
    }
  ]
}